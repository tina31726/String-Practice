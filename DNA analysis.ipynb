{
 "cells": [
  {
   "cell_type": "markdown",
   "metadata": {},
   "source": [
    "# DNA pattern analysis"
   ]
  },
  {
   "cell_type": "code",
   "execution_count": 26,
   "metadata": {
    "ExecuteTime": {
     "end_time": "2019-03-04T18:19:50.998637Z",
     "start_time": "2019-03-04T18:19:50.969696Z"
    }
   },
   "outputs": [],
   "source": [
    "###input\n",
    "strands=[\n",
    "'AATTGGCCAATTG',\n",
    "'TTGAATTGGCCAAAA',\n",
    "'AAATTTGGGCCC',\n",
    "'AAAEEERRRTTT',\n",
    "'NEWUSER123']\n",
    "\n",
    "###built-in mapping variable\n",
    "codon_mapping={\"ATT\":\"Alanine\",\"AAA\":\"Asparagine\",\"AAT\":\"Glutamicacid\"\n",
    "               ,\"GCC\":\"Isoleucine\",\"CCA\":\"Leucine\",\"GAA\":\"Lysine\"\n",
    "               ,\"TTG\":\"Proline\",\"TGG\":\"Tryptophan\"}\n",
    "\n",
    "\n"
   ]
  },
  {
   "cell_type": "markdown",
   "metadata": {},
   "source": [
    "### Part 1 - find valid DNA pattern"
   ]
  },
  {
   "cell_type": "code",
   "execution_count": 23,
   "metadata": {
    "ExecuteTime": {
     "end_time": "2019-03-04T18:16:37.059817Z",
     "start_time": "2019-03-04T18:16:37.043338Z"
    }
   },
   "outputs": [
    {
     "name": "stdout",
     "output_type": "stream",
     "text": [
      "['AATTGGCCAATTG', 'TTGAATTGGCCAAAA', 'AAATTTGGGCCC']\n"
     ]
    }
   ],
   "source": [
    "final_string=[]\n",
    "for string in strands:\n",
    "    correct_string= True\n",
    "    if len(string) >10 and len(string)<100 and string.isupper():\n",
    "        for i in string:\n",
    "            if i not in [\"A\",\"T\",\"C\",\"G\"]:\n",
    "                correct_string=False\n",
    "        if correct_string== True:\n",
    "            final_string.append(string)\n",
    "print(final_string)"
   ]
  },
  {
   "cell_type": "markdown",
   "metadata": {},
   "source": [
    "### Part 2 - concatenate string"
   ]
  },
  {
   "cell_type": "code",
   "execution_count": 6,
   "metadata": {
    "ExecuteTime": {
     "end_time": "2019-03-04T18:09:07.612399Z",
     "start_time": "2019-03-04T18:09:07.550990Z"
    }
   },
   "outputs": [
    {
     "name": "stdout",
     "output_type": "stream",
     "text": [
      "AATTGGCCAATTGAATTGGCCAAAATTTGGGCCC\n"
     ]
    }
   ],
   "source": [
    "\n",
    "length=len(final_string)\n",
    "index=0\n",
    "second_string=final_string[index]\n",
    "first_candidate=[]\n",
    "last_candidate=[]\n",
    "first_candidate.append(final_string[index][:3])\n",
    "last_candidate.append(final_string[index][-3:])\n",
    "combine=[]\n",
    "while index!=length:\n",
    "#     print(\"index:\",index,final_string[index])\n",
    "    if index not in combine:\n",
    "        for i in range(index+1,length):\n",
    "            if final_string[i].startswith(last_candidate[-1],0,3):\n",
    "                second_string+=final_string[i][3:]\n",
    "\n",
    "                last_candidate.pop()\n",
    "                combine.append(i)\n",
    "                last_candidate.append(second_string[-3:])\n",
    "#                 print(second_string)\n",
    "\n",
    "            if final_string[i].endswith(first_candidate[-1],-2):\n",
    "                second_string=final_string[i][:-3]+second_string\n",
    "                first_candidate.pop()\n",
    "                combine.append(i)\n",
    "                first_candidate.append(second_string[:3])\n",
    "#                 print(second_string)\n",
    "        index+=1 \n",
    "    else:\n",
    "        index+=1 \n",
    "print(second_string)"
   ]
  },
  {
   "cell_type": "markdown",
   "metadata": {},
   "source": [
    "### Part 3 - mapping DNA pattern into DNA name"
   ]
  },
  {
   "cell_type": "code",
   "execution_count": 25,
   "metadata": {
    "ExecuteTime": {
     "end_time": "2019-03-04T18:19:34.107945Z",
     "start_time": "2019-03-04T18:19:34.091891Z"
    }
   },
   "outputs": [
    {
     "name": "stdout",
     "output_type": "stream",
     "text": [
      "Glutamicacid: 1\n",
      "Tryptophan: 2\n",
      "Leucine: 1\n",
      "Alanine: 2\n",
      "Lysine: 1\n",
      "Proline: 1\n",
      "Isoleucine: 2\n",
      "Asparagine: 1\n"
     ]
    }
   ],
   "source": [
    "import collections\n",
    "\n",
    "index=3\n",
    "cnt = collections.Counter()\n",
    "while index<= len(second_string):\n",
    "    cnt[codon_mapping[second_string[index-3:index]]]+=1\n",
    "    index+=3\n",
    "\n",
    "for key,value in cnt.items():\n",
    "    print(\"%s: %d\"%(key,value))"
   ]
  }
 ],
 "metadata": {
  "kernelspec": {
   "display_name": "Python 3",
   "language": "python",
   "name": "python3"
  },
  "language_info": {
   "codemirror_mode": {
    "name": "ipython",
    "version": 3
   },
   "file_extension": ".py",
   "mimetype": "text/x-python",
   "name": "python",
   "nbconvert_exporter": "python",
   "pygments_lexer": "ipython3",
   "version": "3.6.4"
  },
  "varInspector": {
   "cols": {
    "lenName": 16,
    "lenType": 16,
    "lenVar": 40
   },
   "kernels_config": {
    "python": {
     "delete_cmd_postfix": "",
     "delete_cmd_prefix": "del ",
     "library": "var_list.py",
     "varRefreshCmd": "print(var_dic_list())"
    },
    "r": {
     "delete_cmd_postfix": ") ",
     "delete_cmd_prefix": "rm(",
     "library": "var_list.r",
     "varRefreshCmd": "cat(var_dic_list()) "
    }
   },
   "types_to_exclude": [
    "module",
    "function",
    "builtin_function_or_method",
    "instance",
    "_Feature"
   ],
   "window_display": false
  }
 },
 "nbformat": 4,
 "nbformat_minor": 2
}
